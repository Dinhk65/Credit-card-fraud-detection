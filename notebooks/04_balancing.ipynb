{
 "cells": [
  {
   "cell_type": "code",
   "execution_count": null,
   "id": "eac2ebf8",
   "metadata": {},
   "outputs": [],
   "source": [
    "# Xử lý mất cân bằng dữ liệu\n",
    "\n",
    "def handle_imbalanced_data(X_train, y_train):\n",
    "    print(\"XỬ LÝ MẤT CÂN BẰNG DỮ LIỆU:\")\n",
    "    print(\"-\"*100)\n",
    "\n",
    "    # 4.1 In ra phân phối nhãn ban đầu\n",
    "    print(\"Phân phối ban đầu: \", Counter(y_train))\n",
    "    print(\"-\"*100)\n",
    "\n",
    "    # 4.2 Kỹ thuật Random Under - sampling\n",
    "    print(\"Thực hiện kỹ thuật Random Under-sampling: \")\n",
    "    rus = RandomUnderSampler(sampling_strategy = 0.1, random_state = 42)\n",
    "    X_train_rus, y_train_rus = rus.fit_resample(X_train, y_train)\n",
    "\n",
    "    print(\"Phân phối sau Random Under-sampling: \", Counter(y_train_rus))\n",
    "    print(\"-\"*100)\n",
    "\n",
    "    # 4.3 Kỹ thuật SMOTE (Synthetic Minority Over-sampling Technique)\n",
    "    print(\"Thực hiện kỹ thuật Smote:\")\n",
    "    smote = SMOTE(sampling_strategy = 0.1, random_state = 42)\n",
    "    X_train_smote, y_train_smote = smote.fit_resample(X_train, y_train)\n",
    "\n",
    "    print(\"Phân phối sau SMOTE: \", Counter(y_train_smote))\n",
    "    print(\"-\"*100)\n",
    "\n",
    "    # 4.4 Kết hợp Under-sampling với SMOTE\n",
    "    print(\"Thực hiện kỹ thuật Us-Smote: \")\n",
    "    rus_smote = RandomUnderSampler(sampling_strategy = 0.5, random_state = 42)\n",
    "    X_train_rus_smote, y_train_rus_smote = rus_smote.fit_resample(X_train_smote, y_train_smote)\n",
    "    print(\"Phân phối sau rus - SMOTE: \", Counter(y_train_rus_smote))\n",
    "    print(\"-\"*100)\n",
    "\n",
    "    # 4.5 Return kết quả sau xử lý\n",
    "    return {\n",
    "        'original':(X_train, y_train),\n",
    "        'undersampling': (X_train_rus, y_train_rus),\n",
    "        'smote': (X_train_smote, y_train_smote),\n",
    "        'combined': (X_train_rus_smote, y_train_rus_smote)\n",
    "    }\n",
    "\n",
    "resampled_data = handle_imbalanced_data(X_train, y_train)\n"
   ]
  }
 ],
 "metadata": {
  "language_info": {
   "name": "python"
  }
 },
 "nbformat": 4,
 "nbformat_minor": 5
}
