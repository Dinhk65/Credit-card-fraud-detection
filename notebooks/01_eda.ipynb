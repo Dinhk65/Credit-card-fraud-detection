{
 "cells": [
  {
   "cell_type": "code",
   "execution_count": null,
   "id": "e3ec1664",
   "metadata": {},
   "outputs": [],
   "source": [
    "def read_and_explore_data(file_path):\n",
    "    print(\"1. Đọc và khám phá dữ liệu\")\n",
    "    print(\"-\"*50)\n",
    "\n",
    "    #1.1 Đọc dữ liệu\n",
    "    df = pd.read_csv(file_path)\n",
    "    print(f\"Kích thước dữ liệu: {df.shape}\")\n",
    "\n",
    "    #1.2 Xem thông tin dữ liệu\n",
    "    print(\"\\n Thông tin dữ liệu:\")\n",
    "    print(df.info())\n",
    "\n",
    "    #1.3 Kiểm tra giá trị thiếu Missing Value\n",
    "    print(\"\\nKiểm tra giá trị thiếu:\")\n",
    "    missing_values = df.isnull().sum()\n",
    "\n",
    "    # conditional expression: Toán tử ba ngôi (ternary operator)\n",
    "    print(missing_values[missing_values > 0] if missing_values.sum() > 0 else \"Không có giá trị Missing Value\")\n",
    "\n",
    "    # 1.4 Thống kê mô tả\n",
    "    print(\"\\n Thống kê mô tả:\")\n",
    "    print(df.describe())\n",
    "\n",
    "    # 1.5 Kiểm tra phân phối nhãn\n",
    "    print(\"\\n Kiểm tra phân phối nhãn (Fraud vs Non - Fraud):\")\n",
    "    fraud_count = df['Class'].value_counts()\n",
    "    print(fraud_count)\n",
    "\n",
    "    # Kiểm tra phân phối nhãn theo tỉ lệ\n",
    "    print(f\"Phần trăm nhãn Non - Fraud: {100*fraud_count[0]/len(df)} %\")\n",
    "    print(f\"Phần trăm nhãn Fraud: {100*fraud_count[1]/len(df)} %\")\n",
    "\n",
    "    return df\n",
    "\n",
    "file_path = '/content/drive/MyDrive/creditcard.csv'\n",
    "\n",
    "df = read_and_explore_data(file_path)\n"
   ]
  }
 ],
 "metadata": {
  "kernelspec": {
   "display_name": "Python 3",
   "language": "python",
   "name": "python3"
  },
  "language_info": {
   "name": "python",
   "version": "3.12.3"
  }
 },
 "nbformat": 4,
 "nbformat_minor": 5
}
