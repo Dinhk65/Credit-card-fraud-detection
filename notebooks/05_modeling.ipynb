{
 "cells": [
  {
   "cell_type": "code",
   "execution_count": null,
   "id": "2ed6cba6",
   "metadata": {},
   "outputs": [],
   "source": [
    "# Thực hành Huấn luyện và đánh giá mô hình\n",
    "\n",
    "def train_and_evaluate_model(resampled_data, X_test, y_test):\n",
    "  # RandomForestClassifier(n_estimators=100, random_state=42, class_weight='balanced'\n",
    "    model = RandomForestClassifier(\n",
    "        n_estimators = 50, #100\n",
    "        max_depth = 10,  #15\n",
    "        min_samples_split=5,\n",
    "        random_state = 42,\n",
    "        oob_score=True,\n",
    "        n_jobs=-1,                     # Tận dụng toàn bộ CPU\n",
    "        verbose=0\n",
    "    )\n",
    "\n",
    "    # Danh sách các phương pháp xử lý mất cân bằng\n",
    "    resampling_methods = ['original', 'undersampling','smote', 'combined']\n",
    "\n",
    "    # Lưu trữ kết quả\n",
    "    results = []\n",
    "\n",
    "    # Huấn luyện và đánh giá mô hình\n",
    "    for method in resampling_methods:\n",
    "        print(\"HUẤN LUYỆN VỚI PHƯƠNG PHÁP XỬ LÝ DỮ LIỆU:\", method.upper())\n",
    "        print(\"-\"*200)\n",
    "\n",
    "        X_train_resampled, y_train_resampled = resampled_data[method]\n",
    "\n",
    "        # Huấn luyện mô hình\n",
    "        model.fit(X_train_resampled, y_train_resampled)\n",
    "\n",
    "        # Dự đoán\n",
    "        y_pred = model.predict(X_test)\n",
    "\n",
    "        # Tính Predict_Proba\n",
    "        y_prob = model.predict_proba(X_test)[:, 1]\n",
    "\n",
    "        # Đánh giá mô hình:\n",
    "        result = eva_and_viz_model(model, X_test, y_test, y_pred, y_prob, method)\n",
    "        results.append(result)\n",
    "        print('-'*200)\n",
    "\n",
    "    return results\n",
    "\n",
    "results = train_and_evaluate_model(resampled_data, X_test, y_test)\n"
   ]
  }
 ],
 "metadata": {
  "language_info": {
   "name": "python"
  }
 },
 "nbformat": 4,
 "nbformat_minor": 5
}
